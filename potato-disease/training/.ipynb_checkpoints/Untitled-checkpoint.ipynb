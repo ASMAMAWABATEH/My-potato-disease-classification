{
 "cells": [
  {
   "cell_type": "code",
   "execution_count": 1,
   "id": "498cfb86-e45b-44ad-8eef-87d5ddb65da4",
   "metadata": {},
   "outputs": [
    {
     "name": "stdout",
     "output_type": "stream",
     "text": [
      "WARNING:tensorflow:From C:\\Users\\Asmamaw\\AppData\\Roaming\\Python\\Python311\\site-packages\\keras\\src\\losses.py:2976: The name tf.losses.sparse_softmax_cross_entropy is deprecated. Please use tf.compat.v1.losses.sparse_softmax_cross_entropy instead.\n",
      "\n"
     ]
    }
   ],
   "source": [
    "import tensorflow as tf\n",
    "from tensorflow.keras import models, layers\n",
    "import matplotlib.pyplot as plt\n",
    "from IPython.display import HTML\n",
    "\n",
    "from tensorflow.keras.preprocessing.image import ImageDataGenerator"
   ]
  },
  {
   "cell_type": "code",
   "execution_count": 2,
   "id": "21a3ca92-4bce-4ded-81da-706adc9e0328",
   "metadata": {},
   "outputs": [
    {
     "name": "stdout",
     "output_type": "stream",
     "text": [
      "Found 1506 images belonging to 3 classes.\n"
     ]
    }
   ],
   "source": [
    "IMAGE_SIZE = 256\n",
    "CHANNELS = 3\n",
    "\n",
    "train_datagen = ImageDataGenerator(\n",
    "    rescale = 1./255,\n",
    "    horizontal_flip = True,\n",
    "    rotation_range = 10\n",
    ")\n",
    "train_generator = train_datagen.flow_from_directory(\n",
    "    'dataset/train',\n",
    "    target_size = (IMAGE_SIZE,IMAGE_SIZE),\n",
    "    batch_size = 32,\n",
    "    class_mode = 'sparse',\n",
    ")"
   ]
  },
  {
   "cell_type": "code",
   "execution_count": 3,
   "id": "c08803d7-93d3-449d-8d94-944d785ecad8",
   "metadata": {},
   "outputs": [
    {
     "name": "stdout",
     "output_type": "stream",
     "text": [
      "[[[0.7572774  0.7455127  0.7729637 ]\n",
      "  [0.63622963 0.6244649  0.6519159 ]\n",
      "  [0.6708832  0.6591185  0.68656945]\n",
      "  ...\n",
      "  [0.583564   0.56395614 0.58748555]\n",
      "  [0.5867216  0.56711376 0.59064317]\n",
      "  [0.58637226 0.5667644  0.5902938 ]]\n",
      "\n",
      " [[0.75866514 0.74690044 0.7743514 ]\n",
      "  [0.63870436 0.62693965 0.65439063]\n",
      "  [0.66957825 0.65781355 0.6852645 ]\n",
      "  ...\n",
      "  [0.52695894 0.5073511  0.5308805 ]\n",
      "  [0.52338034 0.5037725  0.5273019 ]\n",
      "  [0.5230238  0.50341594 0.52694535]]\n",
      "\n",
      " [[0.7542445  0.7424798  0.7699308 ]\n",
      "  [0.6454406  0.6336759  0.66112685]\n",
      "  [0.6676837  0.655919   0.68337   ]\n",
      "  ...\n",
      "  [0.5719524  0.55234456 0.575874  ]\n",
      "  [0.5748995  0.55529165 0.57882106]\n",
      "  [0.57715863 0.5575508  0.5810802 ]]\n",
      "\n",
      " ...\n",
      "\n",
      " [[0.743329   0.72372115 0.7511721 ]\n",
      "  [0.745547   0.72593915 0.75339013]\n",
      "  [0.746389   0.72678113 0.7542321 ]\n",
      "  ...\n",
      "  [0.5636889  0.54408103 0.571532  ]\n",
      "  [0.59100527 0.5713974  0.5988484 ]\n",
      "  [0.5380047  0.51839685 0.54584783]]\n",
      "\n",
      " [[0.7603686  0.74076074 0.7682117 ]\n",
      "  [0.7581201  0.7385123  0.76596326]\n",
      "  [0.75285745 0.7332496  0.7607006 ]\n",
      "  ...\n",
      "  [0.56179434 0.5421865  0.5696375 ]\n",
      "  [0.59437335 0.5747655  0.6022165 ]\n",
      "  [0.5348471  0.51523924 0.5426902 ]]\n",
      "\n",
      " [[0.66548496 0.6458771  0.6733281 ]\n",
      "  [0.6618369  0.6422291  0.66968006]\n",
      "  [0.6599424  0.64033455 0.6677855 ]\n",
      "  ...\n",
      "  [0.5610792  0.54147136 0.56892234]\n",
      "  [0.595143   0.5755352  0.60298616]\n",
      "  [0.53508687 0.515479   0.54293   ]]]\n"
     ]
    }
   ],
   "source": [
    "for image_batch, label_batch in train_generator:\n",
    "    print(image_batch[0])\n",
    "    break"
   ]
  },
  {
   "cell_type": "code",
   "execution_count": 4,
   "id": "fad9342f-aa49-4107-991f-b305ad230b67",
   "metadata": {},
   "outputs": [
    {
     "name": "stdout",
     "output_type": "stream",
     "text": [
      "Found 215 images belonging to 3 classes.\n"
     ]
    }
   ],
   "source": [
    "validation_datagen = ImageDataGenerator(\n",
    "    rescale = 1./255,\n",
    "    rotation_range = 10,\n",
    "    horizontal_flip = True)\n",
    "\n",
    "validation_generator = validation_datagen.flow_from_directory(\n",
    "    'dataset/val',\n",
    "    target_size = (IMAGE_SIZE,IMAGE_SIZE),\n",
    "    batch_size = 32,\n",
    "    class_mode = \"sparse\"\n",
    ")"
   ]
  },
  {
   "cell_type": "code",
   "execution_count": 5,
   "id": "5af3873a-b1ff-44c0-a967-2ff5402c6c3d",
   "metadata": {},
   "outputs": [
    {
     "name": "stdout",
     "output_type": "stream",
     "text": [
      "Found 431 images belonging to 3 classes.\n"
     ]
    }
   ],
   "source": [
    "test_datagen = ImageDataGenerator(\n",
    "    rescale = 1./255,\n",
    "    rotation_range = 10,\n",
    "    horizontal_flip = True)\n",
    "\n",
    "test_generator = test_datagen.flow_from_directory(\n",
    "    'dataset/test',\n",
    "    target_size = (IMAGE_SIZE,IMAGE_SIZE),\n",
    "    batch_size = 32,\n",
    "    class_mode = \"sparse\"\n",
    ")"
   ]
  },
  {
   "cell_type": "code",
   "execution_count": 6,
   "id": "48ebed80-d243-41ae-a64d-e31a2832fc3e",
   "metadata": {},
   "outputs": [
    {
     "name": "stdout",
     "output_type": "stream",
     "text": [
      "WARNING:tensorflow:From C:\\Users\\Asmamaw\\AppData\\Roaming\\Python\\Python311\\site-packages\\keras\\src\\backend.py:1398: The name tf.executing_eagerly_outside_functions is deprecated. Please use tf.compat.v1.executing_eagerly_outside_functions instead.\n",
      "\n",
      "WARNING:tensorflow:From C:\\Users\\Asmamaw\\AppData\\Roaming\\Python\\Python311\\site-packages\\keras\\src\\layers\\pooling\\max_pooling2d.py:161: The name tf.nn.max_pool is deprecated. Please use tf.nn.max_pool2d instead.\n",
      "\n"
     ]
    }
   ],
   "source": [
    "input_shape = (IMAGE_SIZE, IMAGE_SIZE, CHANNELS)\n",
    "n_classes = 3\n",
    "\n",
    "model = models.Sequential([\n",
    "    layers.InputLayer(input_shape = input_shape),\n",
    "    layers.Conv2D(32, kernel_size = (3,3), activation = 'relu'),\n",
    "    layers.MaxPooling2D((2, 2)),\n",
    "    layers.Conv2D(64,  kernel_size = (3,3), activation = 'relu'),\n",
    "    layers.MaxPooling2D((2, 2)),\n",
    "    layers.Conv2D(64,  kernel_size = (3,3), activation = 'relu'),\n",
    "    layers.MaxPooling2D((2, 2)),\n",
    "    layers.Conv2D(64, (3, 3), activation = 'relu'),\n",
    "    layers.MaxPooling2D((2, 2)),\n",
    "    layers.Conv2D(64, (3, 3), activation = 'relu'),\n",
    "    layers.MaxPooling2D((2, 2)),\n",
    "    layers.Conv2D(64, (3, 3), activation = 'relu'),\n",
    "    layers.MaxPooling2D((2, 2)),\n",
    "    layers.Flatten(),\n",
    "    layers.Dense(64, activation = 'relu'),\n",
    "    layers.Dense(n_classes, activation = 'softmax'),\n",
    "])"
   ]
  },
  {
   "cell_type": "code",
   "execution_count": 7,
   "id": "4487e431-7de1-41a6-a39d-a4eb20a73f1a",
   "metadata": {},
   "outputs": [
    {
     "name": "stdout",
     "output_type": "stream",
     "text": [
      "Model: \"sequential\"\n",
      "_________________________________________________________________\n",
      " Layer (type)                Output Shape              Param #   \n",
      "=================================================================\n",
      " conv2d (Conv2D)             (None, 254, 254, 32)      896       \n",
      "                                                                 \n",
      " max_pooling2d (MaxPooling2  (None, 127, 127, 32)      0         \n",
      " D)                                                              \n",
      "                                                                 \n",
      " conv2d_1 (Conv2D)           (None, 125, 125, 64)      18496     \n",
      "                                                                 \n",
      " max_pooling2d_1 (MaxPoolin  (None, 62, 62, 64)        0         \n",
      " g2D)                                                            \n",
      "                                                                 \n",
      " conv2d_2 (Conv2D)           (None, 60, 60, 64)        36928     \n",
      "                                                                 \n",
      " max_pooling2d_2 (MaxPoolin  (None, 30, 30, 64)        0         \n",
      " g2D)                                                            \n",
      "                                                                 \n",
      " conv2d_3 (Conv2D)           (None, 28, 28, 64)        36928     \n",
      "                                                                 \n",
      " max_pooling2d_3 (MaxPoolin  (None, 14, 14, 64)        0         \n",
      " g2D)                                                            \n",
      "                                                                 \n",
      " conv2d_4 (Conv2D)           (None, 12, 12, 64)        36928     \n",
      "                                                                 \n",
      " max_pooling2d_4 (MaxPoolin  (None, 6, 6, 64)          0         \n",
      " g2D)                                                            \n",
      "                                                                 \n",
      " conv2d_5 (Conv2D)           (None, 4, 4, 64)          36928     \n",
      "                                                                 \n",
      " max_pooling2d_5 (MaxPoolin  (None, 2, 2, 64)          0         \n",
      " g2D)                                                            \n",
      "                                                                 \n",
      " flatten (Flatten)           (None, 256)               0         \n",
      "                                                                 \n",
      " dense (Dense)               (None, 64)                16448     \n",
      "                                                                 \n",
      " dense_1 (Dense)             (None, 3)                 195       \n",
      "                                                                 \n",
      "=================================================================\n",
      "Total params: 183747 (717.76 KB)\n",
      "Trainable params: 183747 (717.76 KB)\n",
      "Non-trainable params: 0 (0.00 Byte)\n",
      "_________________________________________________________________\n"
     ]
    }
   ],
   "source": [
    "model.summary()"
   ]
  },
  {
   "cell_type": "code",
   "execution_count": 8,
   "id": "41afac5b-b8a8-4ffb-9a33-5c0b911551c1",
   "metadata": {},
   "outputs": [
    {
     "name": "stdout",
     "output_type": "stream",
     "text": [
      "WARNING:tensorflow:From C:\\Users\\Asmamaw\\AppData\\Roaming\\Python\\Python311\\site-packages\\keras\\src\\optimizers\\__init__.py:309: The name tf.train.Optimizer is deprecated. Please use tf.compat.v1.train.Optimizer instead.\n",
      "\n"
     ]
    }
   ],
   "source": [
    "model.compile(\n",
    "    optimizer = 'adam',\n",
    "    loss = tf.keras.losses.SparseCategoricalCrossentropy(from_logits = False),\n",
    "    metrics = ['accuracy']\n",
    ")"
   ]
  },
  {
   "cell_type": "code",
   "execution_count": 9,
   "id": "489a0767-5bb6-4d2a-93ed-7859089641f8",
   "metadata": {},
   "outputs": [
    {
     "data": {
      "text/plain": [
       "47.0625"
      ]
     },
     "execution_count": 9,
     "metadata": {},
     "output_type": "execute_result"
    }
   ],
   "source": [
    "1506/32"
   ]
  },
  {
   "cell_type": "code",
   "execution_count": 10,
   "id": "9f676a0b-82df-4a44-8e63-e80d458add3e",
   "metadata": {},
   "outputs": [
    {
     "data": {
      "text/plain": [
       "6.71875"
      ]
     },
     "execution_count": 10,
     "metadata": {},
     "output_type": "execute_result"
    }
   ],
   "source": [
    "215/32"
   ]
  },
  {
   "cell_type": "code",
   "execution_count": 11,
   "id": "9946a26d-56ed-4fc5-99b0-850ab050f6e7",
   "metadata": {},
   "outputs": [
    {
     "name": "stdout",
     "output_type": "stream",
     "text": [
      "Epoch 1/20\n",
      "WARNING:tensorflow:From C:\\Users\\Asmamaw\\AppData\\Roaming\\Python\\Python311\\site-packages\\keras\\src\\utils\\tf_utils.py:492: The name tf.ragged.RaggedTensorValue is deprecated. Please use tf.compat.v1.ragged.RaggedTensorValue instead.\n",
      "\n",
      "WARNING:tensorflow:From C:\\Users\\Asmamaw\\AppData\\Roaming\\Python\\Python311\\site-packages\\keras\\src\\engine\\base_layer_utils.py:384: The name tf.executing_eagerly_outside_functions is deprecated. Please use tf.compat.v1.executing_eagerly_outside_functions instead.\n",
      "\n",
      "47/47 [==============================] - 124s 3s/step - loss: 0.9429 - accuracy: 0.4973 - val_loss: 0.8968 - val_accuracy: 0.4583\n",
      "Epoch 2/20\n",
      "47/47 [==============================] - 121s 3s/step - loss: 0.8910 - accuracy: 0.4817 - val_loss: 0.8482 - val_accuracy: 0.5521\n",
      "Epoch 3/20\n",
      "47/47 [==============================] - 118s 2s/step - loss: 0.7485 - accuracy: 0.6608 - val_loss: 0.9358 - val_accuracy: 0.5938\n",
      "Epoch 4/20\n",
      "47/47 [==============================] - 117s 2s/step - loss: 0.5850 - accuracy: 0.7646 - val_loss: 0.5075 - val_accuracy: 0.7760\n",
      "Epoch 5/20\n",
      "47/47 [==============================] - 119s 3s/step - loss: 0.3569 - accuracy: 0.8562 - val_loss: 0.3822 - val_accuracy: 0.8333\n",
      "Epoch 6/20\n",
      "47/47 [==============================] - 118s 2s/step - loss: 0.3005 - accuracy: 0.8833 - val_loss: 0.3697 - val_accuracy: 0.8385\n",
      "Epoch 7/20\n",
      "47/47 [==============================] - 127s 3s/step - loss: 0.2653 - accuracy: 0.8908 - val_loss: 0.2632 - val_accuracy: 0.8802\n",
      "Epoch 8/20\n",
      "47/47 [==============================] - 118s 3s/step - loss: 0.2092 - accuracy: 0.9247 - val_loss: 0.2399 - val_accuracy: 0.8802\n",
      "Epoch 9/20\n",
      "47/47 [==============================] - 117s 3s/step - loss: 0.2221 - accuracy: 0.9152 - val_loss: 0.2742 - val_accuracy: 0.8646\n",
      "Epoch 10/20\n",
      "47/47 [==============================] - 117s 2s/step - loss: 0.1762 - accuracy: 0.9301 - val_loss: 0.1728 - val_accuracy: 0.9167\n",
      "Epoch 11/20\n",
      "47/47 [==============================] - 117s 2s/step - loss: 0.1848 - accuracy: 0.9247 - val_loss: 0.2596 - val_accuracy: 0.8802\n",
      "Epoch 12/20\n",
      "47/47 [==============================] - 118s 2s/step - loss: 0.1743 - accuracy: 0.9376 - val_loss: 0.2867 - val_accuracy: 0.8646\n",
      "Epoch 13/20\n",
      "47/47 [==============================] - 118s 2s/step - loss: 0.1673 - accuracy: 0.9301 - val_loss: 0.1879 - val_accuracy: 0.9167\n",
      "Epoch 14/20\n",
      "47/47 [==============================] - 118s 3s/step - loss: 0.1320 - accuracy: 0.9491 - val_loss: 0.2056 - val_accuracy: 0.9271\n",
      "Epoch 15/20\n",
      "47/47 [==============================] - 117s 2s/step - loss: 0.1194 - accuracy: 0.9478 - val_loss: 0.2103 - val_accuracy: 0.9115\n",
      "Epoch 16/20\n",
      "47/47 [==============================] - 120s 3s/step - loss: 0.1372 - accuracy: 0.9525 - val_loss: 0.1731 - val_accuracy: 0.9271\n",
      "Epoch 17/20\n",
      "47/47 [==============================] - 118s 2s/step - loss: 0.1465 - accuracy: 0.9389 - val_loss: 0.1729 - val_accuracy: 0.9167\n",
      "Epoch 18/20\n",
      "47/47 [==============================] - 119s 3s/step - loss: 0.1178 - accuracy: 0.9525 - val_loss: 0.1699 - val_accuracy: 0.9479\n",
      "Epoch 19/20\n",
      "47/47 [==============================] - 118s 3s/step - loss: 0.1149 - accuracy: 0.9545 - val_loss: 0.1187 - val_accuracy: 0.9531\n",
      "Epoch 20/20\n",
      "47/47 [==============================] - 118s 2s/step - loss: 0.0792 - accuracy: 0.9701 - val_loss: 0.1546 - val_accuracy: 0.9271\n"
     ]
    }
   ],
   "source": [
    "history = model.fit(\n",
    "    train_generator,\n",
    "    steps_per_epoch = 47,\n",
    "    batch_size = 32,\n",
    "    validation_data = validation_generator,\n",
    "    validation_steps = 6,\n",
    "    verbose = 1,\n",
    "    epochs = 20\n",
    ")"
   ]
  },
  {
   "cell_type": "code",
   "execution_count": 12,
   "id": "7c286981-80b2-4677-8d39-8392b7f5f230",
   "metadata": {},
   "outputs": [
    {
     "name": "stdout",
     "output_type": "stream",
     "text": [
      "14/14 [==============================] - 27s 2s/step - loss: 0.1469 - accuracy: 0.9559\n"
     ]
    }
   ],
   "source": [
    "scores = model.evaluate(test_generator)"
   ]
  },
  {
   "cell_type": "code",
   "execution_count": 13,
   "id": "040c287e-470e-4135-9b8e-51a217843cb3",
   "metadata": {},
   "outputs": [
    {
     "data": {
      "text/plain": [
       "[0.14690320193767548, 0.9559164643287659]"
      ]
     },
     "execution_count": 13,
     "metadata": {},
     "output_type": "execute_result"
    }
   ],
   "source": [
    "scores"
   ]
  },
  {
   "cell_type": "code",
   "execution_count": 14,
   "id": "156e71e2-17ad-48d9-afc0-c7103ea19b1c",
   "metadata": {},
   "outputs": [
    {
     "data": {
      "text/plain": [
       "<keras.src.callbacks.History at 0x1b88ec0a710>"
      ]
     },
     "execution_count": 14,
     "metadata": {},
     "output_type": "execute_result"
    }
   ],
   "source": [
    "history"
   ]
  },
  {
   "cell_type": "code",
   "execution_count": 15,
   "id": "db423037-24c7-4f2e-a978-30631b674814",
   "metadata": {},
   "outputs": [
    {
     "data": {
      "text/plain": [
       "{'verbose': 1, 'epochs': 20, 'steps': 47}"
      ]
     },
     "execution_count": 15,
     "metadata": {},
     "output_type": "execute_result"
    }
   ],
   "source": [
    "history.params"
   ]
  },
  {
   "cell_type": "code",
   "execution_count": 16,
   "id": "8b2404a4-c370-4d68-b4f8-cb71aabf6f0c",
   "metadata": {},
   "outputs": [
    {
     "data": {
      "text/plain": [
       "dict_keys(['loss', 'accuracy', 'val_loss', 'val_accuracy'])"
      ]
     },
     "execution_count": 16,
     "metadata": {},
     "output_type": "execute_result"
    }
   ],
   "source": [
    "history.history.keys()"
   ]
  },
  {
   "cell_type": "code",
   "execution_count": 17,
   "id": "3bb2c79d-f6c9-4108-808a-8f89335458e1",
   "metadata": {},
   "outputs": [
    {
     "data": {
      "text/plain": [
       "list"
      ]
     },
     "execution_count": 17,
     "metadata": {},
     "output_type": "execute_result"
    }
   ],
   "source": [
    "type(history.history['loss'])"
   ]
  },
  {
   "cell_type": "code",
   "execution_count": 18,
   "id": "3e2ef989-a44d-43ee-8579-e10a6c38be59",
   "metadata": {},
   "outputs": [
    {
     "data": {
      "text/plain": [
       "20"
      ]
     },
     "execution_count": 18,
     "metadata": {},
     "output_type": "execute_result"
    }
   ],
   "source": [
    "len(history.history['loss'])"
   ]
  },
  {
   "cell_type": "code",
   "execution_count": 19,
   "id": "caabecde-ece9-4c16-8158-a577bfc75163",
   "metadata": {},
   "outputs": [
    {
     "data": {
      "text/plain": [
       "[0.9428648948669434,\n",
       " 0.8909561038017273,\n",
       " 0.7485189437866211,\n",
       " 0.5849718451499939,\n",
       " 0.3569454252719879]"
      ]
     },
     "execution_count": 19,
     "metadata": {},
     "output_type": "execute_result"
    }
   ],
   "source": [
    "history.history['loss'][:5] # show loss for first 5 epochs"
   ]
  },
  {
   "cell_type": "code",
   "execution_count": 20,
   "id": "03e5ae7e-c027-465e-b995-f8d812319b87",
   "metadata": {},
   "outputs": [],
   "source": [
    "acc = history.history['accuracy']\n",
    "val_acc = history.history['val_accuracy']\n",
    "\n",
    "loss = history.history['loss']\n",
    "val_loss = history.history['val_loss']"
   ]
  },
  {
   "cell_type": "code",
   "execution_count": 21,
   "id": "1499140f-112e-4a2c-a10c-2b0e06c08fc8",
   "metadata": {},
   "outputs": [
    {
     "data": {
      "text/plain": [
       "[0.4583333432674408,\n",
       " 0.5520833134651184,\n",
       " 0.59375,\n",
       " 0.7760416865348816,\n",
       " 0.8333333134651184,\n",
       " 0.8385416865348816,\n",
       " 0.8802083134651184,\n",
       " 0.8802083134651184,\n",
       " 0.8645833134651184,\n",
       " 0.9166666865348816,\n",
       " 0.8802083134651184,\n",
       " 0.8645833134651184,\n",
       " 0.9166666865348816,\n",
       " 0.9270833134651184,\n",
       " 0.9114583134651184,\n",
       " 0.9270833134651184,\n",
       " 0.9166666865348816,\n",
       " 0.9479166865348816,\n",
       " 0.953125,\n",
       " 0.9270833134651184]"
      ]
     },
     "execution_count": 21,
     "metadata": {},
     "output_type": "execute_result"
    }
   ],
   "source": [
    "val_acc"
   ]
  },
  {
   "cell_type": "code",
   "execution_count": 22,
   "id": "821771f3-0216-4669-b738-d17917937506",
   "metadata": {},
   "outputs": [
    {
     "data": {
      "text/plain": [
       "[0.49728628993034363,\n",
       " 0.48168250918388367,\n",
       " 0.6607869863510132,\n",
       " 0.7645861506462097,\n",
       " 0.8561736941337585,\n",
       " 0.8833107352256775,\n",
       " 0.8907734155654907,\n",
       " 0.9246947169303894,\n",
       " 0.9151967167854309,\n",
       " 0.9301221370697021,\n",
       " 0.9246947169303894,\n",
       " 0.9375848174095154,\n",
       " 0.9301221370697021,\n",
       " 0.9491180181503296,\n",
       " 0.9477611780166626,\n",
       " 0.9525101780891418,\n",
       " 0.9389416575431824,\n",
       " 0.9525101780891418,\n",
       " 0.9545454382896423,\n",
       " 0.9701492786407471]"
      ]
     },
     "execution_count": 22,
     "metadata": {},
     "output_type": "execute_result"
    }
   ],
   "source": [
    "acc"
   ]
  },
  {
   "cell_type": "code",
   "execution_count": 23,
   "id": "3b1b7f0f-a02f-4185-8b43-764265c4cab5",
   "metadata": {},
   "outputs": [
    {
     "data": {
      "image/png": "[encoded data removed]",
      "text/plain": [
       "<Figure size 800x800 with 2 Axes>"
      ]
     },
     "metadata": {},
     "output_type": "display_data"
    }
   ],
   "source": [
    "EPOCHS = 20\n",
    "\n",
    "plt.figure(figsize=(8, 8))\n",
    "plt.subplot(1, 2, 1)\n",
    "plt.plot(range(EPOCHS), acc, label='Training Accuracy')\n",
    "plt.plot(range(EPOCHS), val_acc, label='Validation Accuracy')\n",
    "plt.legend(loc='lower right')\n",
    "plt.title('Training and Validation Accuracy')\n",
    "\n",
    "plt.subplot(1, 2, 2)\n",
    "plt.plot(range(EPOCHS), loss, label='Training Loss')\n",
    "plt.plot(range(EPOCHS), val_loss, label='Validation Loss')\n",
    "plt.legend(loc='upper right')\n",
    "plt.title('Training and Validation Loss')\n",
    "plt.show()"
   ]
  },
  {
   "cell_type": "code",
   "execution_count": null,
   "id": "bad4a7ae-9ea8-47bb-af9f-f914bafd2a5b",
   "metadata": {},
   "outputs": [],
   "source": [
    "import numpy as np\n",
    "\n",
    "\n",
    "for image_batch, labels_batch in test_generator:\n",
    "    first_image = image_batch[0]\n",
    "    first_label = int(labels_batch[0])\n",
    "    \n",
    "    print(\"first image to predict\")\n",
    "    plt.imshow(first_image)\n",
    "    print(\"actual label:\",class_names[first_label])\n",
    "    \n",
    "    batch_prediction = model.predict(images_batch)\n",
    "    print(\"predicted label:\",class_names[np.argmax(batch_prediction[0])])\n",
    "    \n",
    "    break"
   ]
  },
  {
   "cell_type": "code",
   "execution_count": null,
   "id": "c6c6e8c0-3b8e-438c-a494-5f0dc4eb938a",
   "metadata": {},
   "outputs": [],
   "source": [
    "def predict(model, img):\n",
    "    img_array = tf.keras.preprocessing.image.img_to_array(images[i])\n",
    "    img_array = tf.expand_dims(img_array, 0)\n",
    "\n",
    "    predictions = model.predict(img_array)\n",
    "\n",
    "    predicted_class = class_names[np.argmax(predictions[0])]\n",
    "    confidence = round(100 * (np.max(predictions[0])), 2)\n",
    "    return predicted_class, confidence"
   ]
  },
  {
   "cell_type": "code",
   "execution_count": null,
   "id": "23f85a8d-e0d5-4c1d-ae9f-bd38c36f86f0",
   "metadata": {},
   "outputs": [],
   "source": [
    "plt.figure(figsize=(15, 15))\n",
    "for images, labels in test_generator:\n",
    "    for i in range(9):\n",
    "        ax = plt.subplot(3, 3, i + 1)\n",
    "        plt.imshow(images[i])\n",
    "        \n",
    "        predicted_class, confidence = predict(model, images[i])\n",
    "        actual_class = class_names[int(labels[i])] \n",
    "        \n",
    "        plt.title(f\"Actual: {actual_class},\\n Predicted: {predicted_class}.\\n Confidence: {confidence}%\")\n",
    "        \n",
    "        plt.axis(\"off\")\n",
    "    break"
   ]
  },
  {
   "cell_type": "code",
   "execution_count": null,
   "id": "2decc430-d2a4-44e3-8cd5-f9cf28dbf374",
   "metadata": {},
   "outputs": [],
   "source": [
    "model.save(\"../potatoes.h5\")"
   ]
  },
  {
   "cell_type": "code",
   "execution_count": null,
   "id": "dd749597-cc2e-4cd9-a2d8-ac7fda4907bb",
   "metadata": {},
   "outputs": [],
   "source": []
  }
 ],
 "metadata": {
  "kernelspec": {
   "display_name": "Python 3 (ipykernel)",
   "language": "python",
   "name": "python3"
  },
  "language_info": {
   "codemirror_mode": {
    "name": "ipython",
    "version": 3
   },
   "file_extension": ".py",
   "mimetype": "text/x-python",
   "name": "python",
   "nbconvert_exporter": "python",
   "pygments_lexer": "ipython3",
   "version": "3.11.6"
  }
 },
 "nbformat": 4,
 "nbformat_minor": 5
}
